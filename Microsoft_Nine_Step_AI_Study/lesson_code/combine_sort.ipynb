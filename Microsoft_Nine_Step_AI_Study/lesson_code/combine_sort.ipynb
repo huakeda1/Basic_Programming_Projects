{
 "cells": [
  {
   "cell_type": "code",
   "execution_count": 1,
   "metadata": {},
   "outputs": [],
   "source": [
    "import random\n",
    "import numpy as np\n",
    "import re"
   ]
  },
  {
   "cell_type": "code",
   "execution_count": 2,
   "metadata": {},
   "outputs": [],
   "source": [
    "def get_random_data(*arg,samples=20):\n",
    "    np.random.seed(0)\n",
    "    random.seed(0)\n",
    "    total_data=np.array([np.random.choice(choice,size=(samples,),replace=True,p=[1.0/len(choice)]*len(choice)) for choice in arg])\n",
    "    print(total_data)\n",
    "    combined_data=[''.join(total_data[:,i]) for i in range(samples)]\n",
    "    return combined_data"
   ]
  },
  {
   "cell_type": "code",
   "execution_count": 3,
   "metadata": {},
   "outputs": [
    {
     "name": "stdout",
     "output_type": "stream",
     "text": [
      "[['C' 'C' 'C' 'C' 'B' 'C' 'B' 'D' 'D' 'B' 'D' 'C' 'C' 'D' 'A' 'A' 'A' 'D'\n",
      "  'D' 'D']\n",
      " ['10' '8' '5' '8' '1' '7' '1' '10' '5' '4' '2' '8' '5' '6' '0' '6' '6'\n",
      "  '6' '10' '7']]\n",
      "['A0', 'B1', 'B1', 'D2', 'B4', 'C5', 'D5', 'C5', 'D6', 'A6', 'A6', 'D6', 'C7', 'D7', 'C8', 'C8', 'C8', 'C10', 'D10', 'D10']\n",
      "['A0', 'A6', 'A6', 'B1', 'B1', 'B4', 'C5', 'C5', 'C7', 'C8', 'C8', 'C8', 'C10', 'D2', 'D5', 'D6', 'D6', 'D7', 'D10', 'D10']\n"
     ]
    }
   ],
   "source": [
    "alphas=['A','B','C','D']\n",
    "numbers=[0,1,2,3,4,5,6,7,8,9,10]\n",
    "samples=20\n",
    "combined_data=get_random_data(alphas,numbers,samples=20)\n",
    "first_sort=sorted(combined_data,key=lambda x:int(re.findall(r'[a-zA-Z]+(\\d+)',x)[0]))\n",
    "print(first_sort)\n",
    "output=[]\n",
    "for w in alphas:\n",
    "    for d in first_sort:\n",
    "        if w in re.findall(r'([a-zA-Z]+)\\d+',d)[0]:\n",
    "            output.append(d)\n",
    "print(output)"
   ]
  },
  {
   "cell_type": "code",
   "execution_count": null,
   "metadata": {},
   "outputs": [],
   "source": []
  }
 ],
 "metadata": {
  "kernelspec": {
   "display_name": "Python 3",
   "language": "python",
   "name": "python3"
  },
  "language_info": {
   "codemirror_mode": {
    "name": "ipython",
    "version": 3
   },
   "file_extension": ".py",
   "mimetype": "text/x-python",
   "name": "python",
   "nbconvert_exporter": "python",
   "pygments_lexer": "ipython3",
   "version": "3.7.6"
  }
 },
 "nbformat": 4,
 "nbformat_minor": 4
}
